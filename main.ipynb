{
  "nbformat": 4,
  "nbformat_minor": 0,
  "metadata": {
    "colab": {
      "name": "8_colorbot_generate_starter.ipynb",
      "version": "0.3.2",
      "provenance": [],
      "collapsed_sections": []
    },
    "kernelspec": {
      "name": "python3",
      "display_name": "Python 3"
    },
    "accelerator": "GPU"
  },
  "cells": [
    {
      "metadata": {
        "id": "ajbA42EhXNtq",
        "colab_type": "text"
      },
      "cell_type": "markdown",
      "source": [
        "#### download weight and libraries\n"
      ]
    },
    {
      "metadata": {
        "id": "eQa8yTQ1A70q",
        "colab_type": "code",
        "colab": {}
      },
      "cell_type": "code",
      "source": [
        "import os\n",
        "\n",
        "weight_folder = './data/'\n",
        "lib_folder = './src/'\n",
        "img_folder = './img/'\n",
        "if not os.path.exists(weight_folder): \n",
        "  os.mkdir(weight_folder)\n",
        "if not os.path.exists(img_folder): \n",
        "  os.mkdir(img_folder)\n",
        "if not os.path.exists(lib_folder): \n",
        "  os.mkdir(lib_folder)\n",
        "\n",
        "# Download weight\n",
        "weight_url = 'http://www.vlfeat.org/matconvnet/models/imagenet-vgg-verydeep-19.mat'\n",
        "weight_path = weight_folder + 'imagenet-vgg-verydeep-19.mat'\n",
        "if not os.path.exists(weight_path):\n",
        "  !curl -o $weight_path $weight_url\n",
        "\n",
        "# Download libraries\n",
        "libraries = ['vgg.py', 'constants.py', 'neural_network.py', 'utils.py']\n",
        "library_url = 'https://raw.githubusercontent.com/abx67/AdvML-style-transfer/master/src/'\n",
        "\n",
        "for lib in libraries:\n",
        "  lib_path = lib_folder + lib\n",
        "  lib_url = library_url + lib\n",
        "  if not os.path.exists(lib_path):\n",
        "    !curl -o $lib_path $lib_url\n",
        "    \n",
        "# Download images\n",
        "style_img_name = 'van_gogh.jpg'\n",
        "content_img_name = 'new_york.jpg'\n",
        "img_url = 'https://raw.githubusercontent.com/abx67/AdvML-style-transfer/master/img/'\n",
        "\n",
        "style_path = img_folder + style_img_name\n",
        "style_url = img_url + style_img_name\n",
        "content_path = img_folder + content_img_name\n",
        "content_url = img_url + content_img_name\n",
        "\n",
        "if not os.path.exists(style_path):\n",
        "  !curl -o $style_path $style_url\n",
        "if not os.path.exists(content_path):\n",
        "  !curl -o $content_path $content_url"
      ],
      "execution_count": 0,
      "outputs": []
    },
    {
      "metadata": {
        "id": "S8hpK52gbU9O",
        "colab_type": "text"
      },
      "cell_type": "markdown",
      "source": [
        "#### import modules"
      ]
    },
    {
      "metadata": {
        "id": "WyJAmez0bZQ7",
        "colab_type": "code",
        "colab": {}
      },
      "cell_type": "code",
      "source": [
        "import time\n",
        "import numpy as np\n",
        "import PIL.Image\n",
        "import sys\n",
        "sys.path.append(lib_folder)\n",
        "from neural_network import NeuralNetwork\n",
        "from vgg import VGG"
      ],
      "execution_count": 0,
      "outputs": []
    },
    {
      "metadata": {
        "id": "oHBKl9yxb1pd",
        "colab_type": "text"
      },
      "cell_type": "markdown",
      "source": [
        "#### contents definition"
      ]
    },
    {
      "metadata": {
        "id": "5BPKDOEcb4Am",
        "colab_type": "code",
        "colab": {}
      },
      "cell_type": "code",
      "source": [
        "VGG_MAT_PATH = weight_path\n",
        "CONTENT_IMAGE_PATH = content_path\n",
        "STYLE_IMAGE_PATH = style_path\n",
        "MIXED_IMAGE_PATH = './output/'\n",
        "if not os.path.exists(MIXED_IMAGE_PATH): \n",
        "  os.mkdir(MIXED_IMAGE_PATH)\n",
        "\n",
        "CONTENT_WEIGHT = 5\n",
        "STYLE_WEIGHT = 500\n",
        "VARIATION_WEIGHT = 100\n",
        "LEARNING_RATE = 10\n",
        "BETA1 = 0.9\n",
        "BETA2 = 0.999\n",
        "EPSILON = 1e-08\n",
        "MAX_ITERATION = 100\n",
        "POOLING = 'max'\n",
        "CHECK_POINT = 10"
      ],
      "execution_count": 0,
      "outputs": []
    },
    {
      "metadata": {
        "id": "P7g6A46QcMfd",
        "colab_type": "text"
      },
      "cell_type": "markdown",
      "source": [
        "#### function definition"
      ]
    },
    {
      "metadata": {
        "id": "w9Fs1kUkcLbj",
        "colab_type": "code",
        "colab": {}
      },
      "cell_type": "code",
      "source": [
        "def load_image(file_path, max_size=None, shape=None):\n",
        "    # load image and define the factor used to tranfer the image size\n",
        "    image = PIL.Image.open(file_path)\n",
        "    # resize by max_size\n",
        "    if max_size is not None:\n",
        "        factor = float(max_size) / np.max(image.size)  # image.size = [height, width, 3]\n",
        "        size = np.array(image.size) * factor\n",
        "        size = size.astype(int)\n",
        "        image = image.resize(size, PIL.Image.LANCZOS)  # image resize with filter LANCZOS\n",
        "    # resize with shape\n",
        "    if shape is not None:\n",
        "        image = image.resize(shape, PIL.Image.LANCZOS)\n",
        "    # return image values with float data type\n",
        "    return np.float32(image)\n",
        "\n",
        "\n",
        "def save_image(file_path, image):\n",
        "    # ensure the pixel value is int between 0 and 255\n",
        "    image = np.clip(image, 0.0, 255.0).astype(np.uint8)\n",
        "    # write to file\n",
        "    PIL.Image.fromarray(image).save(file_path)\n",
        "    return\n",
        "\n",
        "\n",
        "def style_transfer(content_image_path, style_image_path, mixed_image_path,\n",
        "                   content_weight, style_weight, variation_weight,\n",
        "                   pooling, learning_rate, beta1, beta2, epsilon, max_iteration, check_point):\n",
        "    # set the time point\n",
        "    time_start = time.time()\n",
        "\n",
        "    # load image\n",
        "    content_image = load_image(content_image_path)\n",
        "    style_image = load_image(style_image_path, shape=content_image.shape[:2])\n",
        "\n",
        "    # initialize object\n",
        "    vgg = VGG(VGG_MAT_PATH, pooling)\n",
        "    nn = NeuralNetwork(content_image, style_image, vgg, content_weight, style_weight, variation_weight)\n",
        "\n",
        "    # train the model\n",
        "    for i, mixed_image in nn.train_model(learning_rate, beta1, beta2, epsilon, max_iteration, check_point):\n",
        "        save_image(mixed_image_path + '\\\\v1_{}.jpeg'.format(i + 1), mixed_image)\n",
        "\n",
        "    # print time\n",
        "    time_end = time.time()\n",
        "    print('Time elapsed: {} seconds'.format(round(time_end - time_start)))\n",
        "\n",
        "    return"
      ],
      "execution_count": 0,
      "outputs": []
    },
    {
      "metadata": {
        "id": "Q4_KvOV1cQ-F",
        "colab_type": "text"
      },
      "cell_type": "markdown",
      "source": [
        "#### main function"
      ]
    },
    {
      "metadata": {
        "id": "yqa12dkmcO_Y",
        "colab_type": "code",
        "colab": {
          "base_uri": "https://localhost:8080/",
          "height": 204
        },
        "outputId": "43484ee0-a203-4546-cf17-308a6adb1f73"
      },
      "cell_type": "code",
      "source": [
        "if __name__ == '__main__':\n",
        "    style_transfer(content_image_path=CONTENT_IMAGE_PATH,\n",
        "                   style_image_path=STYLE_IMAGE_PATH,\n",
        "                   mixed_image_path=MIXED_IMAGE_PATH,\n",
        "                   content_weight=CONTENT_WEIGHT,\n",
        "                   style_weight=STYLE_WEIGHT,\n",
        "                   variation_weight=VARIATION_WEIGHT,\n",
        "                   pooling=POOLING,\n",
        "                   learning_rate=LEARNING_RATE,\n",
        "                   beta1=BETA1,\n",
        "                   beta2=BETA2,\n",
        "                   epsilon=EPSILON,\n",
        "                   max_iteration=MAX_ITERATION,\n",
        "                   check_point=CHECK_POINT)"
      ],
      "execution_count": 8,
      "outputs": [
        {
          "output_type": "stream",
          "text": [
            "iter: 10, loss total: 7170852.5, loss content: 2416529.75, loss style: 4495433.0, loss variation: 258889.453125\n",
            "iter: 20, loss total: 4637957.0, loss content: 2342397.0, loss style: 2018945.0, loss variation: 276615.1875\n",
            "iter: 30, loss total: 3293741.5, loss content: 2181219.0, loss style: 872391.25, loss variation: 240131.28125\n",
            "iter: 40, loss total: 2827520.25, loss content: 2023505.875, loss style: 579402.625, loss variation: 224611.765625\n",
            "iter: 50, loss total: 2552133.5, loss content: 1897326.875, loss style: 434659.84375, loss variation: 220146.65625\n",
            "iter: 60, loss total: 2378518.5, loss content: 1805466.0, loss style: 359070.9375, loss variation: 213981.546875\n",
            "iter: 70, loss total: 2259172.0, loss content: 1739634.5, loss style: 313142.53125, loss variation: 206394.96875\n",
            "iter: 80, loss total: 2174943.5, loss content: 1691433.875, loss style: 283338.09375, loss variation: 200171.40625\n",
            "iter: 90, loss total: 2118692.5, loss content: 1654400.25, loss style: 268907.0, loss variation: 195385.15625\n",
            "iter: 100, loss total: 2131702.25, loss content: 1636458.375, loss style: 304058.34375, loss variation: 191185.578125\n",
            "Time elapsed: 107 seconds\n"
          ],
          "name": "stdout"
        }
      ]
    },
    {
      "metadata": {
        "id": "Ns6gbBzHcSq5",
        "colab_type": "code",
        "colab": {}
      },
      "cell_type": "code",
      "source": [
        ""
      ],
      "execution_count": 0,
      "outputs": []
    }
  ]
}