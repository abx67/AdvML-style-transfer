{
  "nbformat": 4,
  "nbformat_minor": 0,
  "metadata": {
    "colab": {
      "name": "8_colorbot_generate_starter.ipynb",
      "version": "0.3.2",
      "provenance": [],
      "collapsed_sections": []
    },
    "kernelspec": {
      "name": "python3",
      "display_name": "Python 3"
    },
    "accelerator": "GPU"
  },
  "cells": [
    {
      "metadata": {
        "id": "ajbA42EhXNtq",
        "colab_type": "text"
      },
      "cell_type": "markdown",
      "source": [
        "#### download weight and libraries\n"
      ]
    },
    {
      "metadata": {
        "id": "eQa8yTQ1A70q",
        "colab_type": "code",
        "colab": {}
      },
      "cell_type": "code",
      "source": [
        "import os\n",
        "\n",
        "weight_folder = './data/'\n",
        "lib_folder = './src/'\n",
        "img_folder = './img/'\n",
        "if not os.path.exists(weight_folder): \n",
        "  os.mkdir(weight_folder)\n",
        "if not os.path.exists(img_folder): \n",
        "  os.mkdir(img_folder)\n",
        "if not os.path.exists(lib_folder): \n",
        "  os.mkdir(lib_folder)\n",
        "\n",
        "# Download weight\n",
        "weight_url = 'http://www.vlfeat.org/matconvnet/models/imagenet-vgg-verydeep-19.mat'\n",
        "weight_path = weight_folder + 'imagenet-vgg-verydeep-19.mat'\n",
        "if not os.path.exists(weight_path):\n",
        "  !curl -o $weight_path $weight_url\n",
        "\n",
        "# Download libraries\n",
        "libraries = ['vgg.py', 'constants.py', 'neural_network.py', 'utils.py']\n",
        "library_url = 'https://raw.githubusercontent.com/abx67/AdvML-style-transfer/master/src/'\n",
        "\n",
        "for lib in libraries:\n",
        "  lib_path = lib_folder + lib\n",
        "  lib_url = library_url + lib\n",
        "  if not os.path.exists(lib_path):\n",
        "    !curl -o $lib_path $lib_url\n",
        "    \n",
        "# Download images\n",
        "style_img_name = 'van_gogh.jpg'\n",
        "content_img_name = 'new_york.jpg'\n",
        "img_url = 'https://raw.githubusercontent.com/abx67/AdvML-style-transfer/master/img/'\n",
        "\n",
        "style_path = img_folder + style_img_name\n",
        "style_url = img_url + style_img_name\n",
        "content_path = img_folder + content_img_name\n",
        "content_url = img_url + content_img_name\n",
        "\n",
        "if not os.path.exists(style_path):\n",
        "  !curl -o $style_path $style_url\n",
        "if not os.path.exists(content_path):\n",
        "  !curl -o $content_path $content_url"
      ],
      "execution_count": 0,
      "outputs": []
    }
  ]
}